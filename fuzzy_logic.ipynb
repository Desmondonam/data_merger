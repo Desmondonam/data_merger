{
 "cells": [
  {
   "cell_type": "markdown",
   "metadata": {
    "vscode": {
     "languageId": "bat"
    }
   },
   "source": [
    "- Set up hypothetical Data"
   ]
  },
  {
   "cell_type": "code",
   "execution_count": 6,
   "metadata": {},
   "outputs": [],
   "source": [
    "import sys\n",
    "sys.path.append(r'C:\\Users\\Admin\\Desktop\\Upwork\\Sebastian_Jung\\fuzzy_merger')"
   ]
  },
  {
   "cell_type": "code",
   "execution_count": 7,
   "metadata": {},
   "outputs": [
    {
     "name": "stdout",
     "output_type": "stream",
     "text": [
      "C:\\Users\\Admin\\Desktop\\Upwork\\Sebastian_Jung\\fuzzy_merger\\util.py\n"
     ]
    }
   ],
   "source": [
    "import util\n",
    "print(util.__file__)"
   ]
  },
  {
   "cell_type": "code",
   "execution_count": 8,
   "metadata": {},
   "outputs": [],
   "source": [
    "import sys\n",
    "sys.path.append(r'C:\\Users\\Admin\\Desktop\\Upwork\\Sebastian_Jung\\fuzzy_merger')\n",
    "from merger import DataMerger"
   ]
  },
  {
   "cell_type": "code",
   "execution_count": 14,
   "metadata": {},
   "outputs": [],
   "source": [
    "import pandas as pd\n",
    "\n",
    "# Hypothetical Data for DataFrame 1 (df1)\n",
    "data1 = {\n",
    "    'email': ['john.doe@example.com', 'jane.smith@example.com', 'sanny@yahoo.com'],\n",
    "    'firstname': ['John', 'Jane', \"Shanny\"],\n",
    "    'lastname': ['Doe', 'Smith', 'Owuor'],\n",
    "    'street': ['123 Maple Street', '456 Oak Avenue', '769 Phelgon Avenue'],\n",
    "    'zip': ['12345', '67890', '23432'],\n",
    "    'city': ['Metropolis', 'Gotham', 'Kisenye']\n",
    "}\n",
    "\n",
    "df1 = pd.DataFrame(data1)\n",
    "\n",
    "# Hypothetical Data for DataFrame 2 (df2)\n",
    "data2 = {\n",
    "    'email': ['john.d@example.com', 'jane.s@example.com', 'sharon@yahoo.com'],\n",
    "    'firstname': ['Jon', 'Janie', \"Sharon\"],\n",
    "    'lastname': ['Do', 'Smith', 'Omwasi'],\n",
    "    'street': ['123 Maple St', '456 Oak Ave', '345 Mali rahisi'],\n",
    "    'zip': ['12345', '67890', '748475'],\n",
    "    'city': ['Metropolis', 'Gotham', 'Sindo']\n",
    "}\n",
    "\n",
    "df2 = pd.DataFrame(data2)\n"
   ]
  },
  {
   "cell_type": "code",
   "execution_count": 15,
   "metadata": {},
   "outputs": [
    {
     "data": {
      "text/html": [
       "<div>\n",
       "<style scoped>\n",
       "    .dataframe tbody tr th:only-of-type {\n",
       "        vertical-align: middle;\n",
       "    }\n",
       "\n",
       "    .dataframe tbody tr th {\n",
       "        vertical-align: top;\n",
       "    }\n",
       "\n",
       "    .dataframe thead th {\n",
       "        text-align: right;\n",
       "    }\n",
       "</style>\n",
       "<table border=\"1\" class=\"dataframe\">\n",
       "  <thead>\n",
       "    <tr style=\"text-align: right;\">\n",
       "      <th></th>\n",
       "      <th>email</th>\n",
       "      <th>firstname</th>\n",
       "      <th>lastname</th>\n",
       "      <th>street</th>\n",
       "      <th>zip</th>\n",
       "      <th>city</th>\n",
       "    </tr>\n",
       "  </thead>\n",
       "  <tbody>\n",
       "    <tr>\n",
       "      <th>0</th>\n",
       "      <td>john.doe@example.com</td>\n",
       "      <td>John</td>\n",
       "      <td>Doe</td>\n",
       "      <td>123 Maple Street</td>\n",
       "      <td>12345</td>\n",
       "      <td>Metropolis</td>\n",
       "    </tr>\n",
       "    <tr>\n",
       "      <th>1</th>\n",
       "      <td>jane.smith@example.com</td>\n",
       "      <td>Jane</td>\n",
       "      <td>Smith</td>\n",
       "      <td>456 Oak Avenue</td>\n",
       "      <td>67890</td>\n",
       "      <td>Gotham</td>\n",
       "    </tr>\n",
       "    <tr>\n",
       "      <th>2</th>\n",
       "      <td>sanny@yahoo.com</td>\n",
       "      <td>Shanny</td>\n",
       "      <td>Owuor</td>\n",
       "      <td>769 Phelgon Avenue</td>\n",
       "      <td>23432</td>\n",
       "      <td>Kisenye</td>\n",
       "    </tr>\n",
       "  </tbody>\n",
       "</table>\n",
       "</div>"
      ],
      "text/plain": [
       "                    email firstname lastname              street    zip  \\\n",
       "0    john.doe@example.com      John      Doe    123 Maple Street  12345   \n",
       "1  jane.smith@example.com      Jane    Smith      456 Oak Avenue  67890   \n",
       "2         sanny@yahoo.com    Shanny    Owuor  769 Phelgon Avenue  23432   \n",
       "\n",
       "         city  \n",
       "0  Metropolis  \n",
       "1      Gotham  \n",
       "2     Kisenye  "
      ]
     },
     "execution_count": 15,
     "metadata": {},
     "output_type": "execute_result"
    }
   ],
   "source": [
    "df1"
   ]
  },
  {
   "cell_type": "code",
   "execution_count": 16,
   "metadata": {},
   "outputs": [
    {
     "data": {
      "text/html": [
       "<div>\n",
       "<style scoped>\n",
       "    .dataframe tbody tr th:only-of-type {\n",
       "        vertical-align: middle;\n",
       "    }\n",
       "\n",
       "    .dataframe tbody tr th {\n",
       "        vertical-align: top;\n",
       "    }\n",
       "\n",
       "    .dataframe thead th {\n",
       "        text-align: right;\n",
       "    }\n",
       "</style>\n",
       "<table border=\"1\" class=\"dataframe\">\n",
       "  <thead>\n",
       "    <tr style=\"text-align: right;\">\n",
       "      <th></th>\n",
       "      <th>email</th>\n",
       "      <th>firstname</th>\n",
       "      <th>lastname</th>\n",
       "      <th>street</th>\n",
       "      <th>zip</th>\n",
       "      <th>city</th>\n",
       "    </tr>\n",
       "  </thead>\n",
       "  <tbody>\n",
       "    <tr>\n",
       "      <th>0</th>\n",
       "      <td>john.d@example.com</td>\n",
       "      <td>Jon</td>\n",
       "      <td>Do</td>\n",
       "      <td>123 Maple St</td>\n",
       "      <td>12345</td>\n",
       "      <td>Metropolis</td>\n",
       "    </tr>\n",
       "    <tr>\n",
       "      <th>1</th>\n",
       "      <td>jane.s@example.com</td>\n",
       "      <td>Janie</td>\n",
       "      <td>Smith</td>\n",
       "      <td>456 Oak Ave</td>\n",
       "      <td>67890</td>\n",
       "      <td>Gotham</td>\n",
       "    </tr>\n",
       "    <tr>\n",
       "      <th>2</th>\n",
       "      <td>sharon@yahoo.com</td>\n",
       "      <td>Sharon</td>\n",
       "      <td>Omwasi</td>\n",
       "      <td>345 Mali rahisi</td>\n",
       "      <td>748475</td>\n",
       "      <td>Sindo</td>\n",
       "    </tr>\n",
       "  </tbody>\n",
       "</table>\n",
       "</div>"
      ],
      "text/plain": [
       "                email firstname lastname           street     zip        city\n",
       "0  john.d@example.com       Jon       Do     123 Maple St   12345  Metropolis\n",
       "1  jane.s@example.com     Janie    Smith      456 Oak Ave   67890      Gotham\n",
       "2    sharon@yahoo.com    Sharon   Omwasi  345 Mali rahisi  748475       Sindo"
      ]
     },
     "execution_count": 16,
     "metadata": {},
     "output_type": "execute_result"
    }
   ],
   "source": [
    "df2"
   ]
  },
  {
   "cell_type": "code",
   "execution_count": 17,
   "metadata": {},
   "outputs": [
    {
     "name": "stdout",
     "output_type": "stream",
     "text": [
      "Updated DataFrame 2:\n",
      "                email firstname lastname           street     zip        city\n",
      "0  john.d@example.com       Jon       Do     123 Maple St   12345  Metropolis\n",
      "1  jane.s@example.com     Janie    Smith      456 Oak Ave   67890      Gotham\n",
      "2    sharon@yahoo.com    Sharon   Omwasi  345 Mali rahisi  748475       Sindo\n"
     ]
    }
   ],
   "source": [
    "# Create an instance of DataMerger\n",
    "merger = DataMerger(df1, df2)\n",
    "\n",
    "# Perform the merge\n",
    "merged_data = merger.merge_data()\n",
    "\n",
    "print(\"Updated DataFrame 2:\")\n",
    "print(merged_data)"
   ]
  },
  {
   "cell_type": "code",
   "execution_count": null,
   "metadata": {},
   "outputs": [],
   "source": []
  }
 ],
 "metadata": {
  "kernelspec": {
   "display_name": "base",
   "language": "python",
   "name": "python3"
  },
  "language_info": {
   "codemirror_mode": {
    "name": "ipython",
    "version": 3
   },
   "file_extension": ".py",
   "mimetype": "text/x-python",
   "name": "python",
   "nbconvert_exporter": "python",
   "pygments_lexer": "ipython3",
   "version": "3.11.5"
  }
 },
 "nbformat": 4,
 "nbformat_minor": 2
}
