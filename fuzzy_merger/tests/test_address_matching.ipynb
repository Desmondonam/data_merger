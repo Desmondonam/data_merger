{
 "cells": [
  {
   "cell_type": "code",
   "execution_count": 1,
   "metadata": {},
   "outputs": [],
   "source": [
    "# Step 1: Import necessary libraries and package components\n",
    "import sys\n",
    "sys.path.append('C:/Users/Admin/Desktop/Upwork/Sebastian_Jung/fuzzy_merger/')\n",
    "import pandas as pd\n",
    "from matcher import FuzzyMatcher # , DataMerger"
   ]
  },
  {
   "cell_type": "code",
   "execution_count": 2,
   "metadata": {},
   "outputs": [],
   "source": [
    "# Step 2: Create sample data\n",
    "data1 = {\n",
    "    'email': ['john.doe@example.com', 'jane.smith@example.com'],\n",
    "    'first_name': ['John', 'Jane'],\n",
    "    'last_name': ['Doe', 'Smith'],\n",
    "    'street': ['123 Maple St', '456 Oak St'],\n",
    "    'zip': ['12345', '67890'],\n",
    "    'city': ['Springfield', 'Shelbyville']\n",
    "}\n",
    "\n",
    "data2 = {\n",
    "    'email': ['jane.smith@example.com', 'john.doe@example.com'],\n",
    "    'first_name': ['Jane', 'John'],\n",
    "    'last_name': ['Smith', 'Doe'],\n",
    "    'street': ['456 Oak Street', '123 Maple Street'],\n",
    "    'zip': ['67890', '12345'],\n",
    "    'city': ['Shelbyville', 'Springfield']\n",
    "}\n",
    "\n",
    "df1 = pd.DataFrame(data1)\n",
    "df2 = pd.DataFrame(data2)"
   ]
  },
  {
   "cell_type": "code",
   "execution_count": 3,
   "metadata": {},
   "outputs": [],
   "source": [
    "class DataMerger:\n",
    "    def __init__(self, df1, df2):\n",
    "        self.df1 = df1\n",
    "        self.df2 = df2\n",
    "\n",
    "    def merge_data(self):\n",
    "        matcher = FuzzyMatcher(self.df1, self.df2)\n",
    "        matches = matcher.perform_matching()\n",
    "\n",
    "        for idx, match in matches.iterrows():\n",
    "            score = match['similarity_score']\n",
    "            if score >= matcher.similarity_threshold:\n",
    "                # Merge data based on highest similarity score match\n",
    "                matched_row = self.df2.loc[match['match_id']]\n",
    "                for col in matcher.attributes:\n",
    "                    if not pd.isna(match[col]) and compare_with_regex(match[col], matched_row[col]):\n",
    "                        self.df2.at[match['match_id'], col] = match[col]\n",
    "            else:\n",
    "                # Add unmatched rows as new entries\n",
    "                self.df2 = pd.concat([self.df2, self.df1.iloc[[idx]]], ignore_index=True)\n",
    "        \n",
    "        return self.df2"
   ]
  },
  {
   "cell_type": "code",
   "execution_count": 4,
   "metadata": {},
   "outputs": [],
   "source": [
    "# from merger import DataMerger"
   ]
  },
  {
   "cell_type": "code",
   "execution_count": 5,
   "metadata": {},
   "outputs": [],
   "source": [
    "# Step 3: Initialize the DataMerger\n",
    "merger = DataMerger(df1, df2)"
   ]
  },
  {
   "cell_type": "code",
   "execution_count": null,
   "metadata": {},
   "outputs": [],
   "source": [
    "# Step 4: Run the merging process\n",
    "merged_df = merger.merge_data()"
   ]
  },
  {
   "cell_type": "code",
   "execution_count": null,
   "metadata": {},
   "outputs": [],
   "source": [
    "# Step 5: Display the results\n",
    "print(\"Merged DataFrame:\")\n",
    "print(merged_df)"
   ]
  }
 ],
 "metadata": {
  "kernelspec": {
   "display_name": "base",
   "language": "python",
   "name": "python3"
  },
  "language_info": {
   "codemirror_mode": {
    "name": "ipython",
    "version": 3
   },
   "file_extension": ".py",
   "mimetype": "text/x-python",
   "name": "python",
   "nbconvert_exporter": "python",
   "pygments_lexer": "ipython3",
   "version": "3.11.5"
  }
 },
 "nbformat": 4,
 "nbformat_minor": 2
}
